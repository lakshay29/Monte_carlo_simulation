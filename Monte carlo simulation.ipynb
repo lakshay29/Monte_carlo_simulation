{
 "cells": [
  {
   "cell_type": "code",
   "execution_count": 4,
   "metadata": {},
   "outputs": [],
   "source": [
    "import numpy as np\n",
    "import pandas as pd\n",
    "from scipy.stats import norm\n",
    "import matplotlib.pyplot as plt"
   ]
  },
  {
   "cell_type": "code",
   "execution_count": 92,
   "metadata": {},
   "outputs": [],
   "source": [
    "#Given data\n",
    "S = 100\n",
    "K = 100\n",
    "T = 1\n",
    "r = 0.07\n",
    "stdev = 0.2\n",
    "\n",
    "#below data for Brownian motion\n",
    "Iterations = 100000\n",
    "N_steps = 250"
   ]
  },
  {
   "cell_type": "markdown",
   "metadata": {},
   "source": [
    "**Brownian motion**, or pedesis, is the random motion of particles suspended in a medium. This pattern of motion typically consists of random fluctuations in a particle's position inside a fluid sub-domain, followed by a relocation to another sub-domain.\n",
    "<br /><br />\n",
    "In option pricing the formula of brownian motion is used to calculate the random spot prices price the option according to it.\n"
   ]
  },
  {
   "cell_type": "code",
   "execution_count": 93,
   "metadata": {},
   "outputs": [],
   "source": [
    "#Brownian Motion Formula Building\n",
    "\n",
    "dt = T/N_steps\n",
    "drift = (r-(stdev**2)/2)*dt\n",
    "a = sigma*np.sqrt(dt)\n",
    "x = np.random.normal(0,1,(Iterations,N_steps))\n",
    "\n",
    "#Spot price Matrix\n",
    "S_mat = np.zeros((Iterations,N_steps))\n",
    "S_mat[:,0] += S\n",
    "\n",
    "#Calculating random spot price through Brownian motion formula\n",
    "for i in range(1,N_steps):\n",
    "    S_mat[:,i] += S_mat[:,i-1] * np.exp(drift + a*x[:,i])\n",
    "    \n",
    "#Call option payoff\n",
    "q = S_mat[:,-1] - K\n",
    "for i in range(len(q)):\n",
    "    if q[i]<0:\n",
    "        q[i]=0\n",
    "    else:\n",
    "        q[i]=q[i]\n",
    "        \n",
    "#put option payoff\n",
    "p = K - S_mat[:,-1] \n",
    "for i in range(len(p)):\n",
    "    if p[i]<0:\n",
    "        p[i]=0\n",
    "    else:\n",
    "        p[i]=p[i]\n",
    "        \n",
    "payoffcall = np.mean(q)\n",
    "payoffput = np.mean(p)\n",
    "Brow_call = payoffcall*np.exp(-r*T)\n",
    "Brow_put = payoffput*np.exp(-r*T)"
   ]
  },
  {
   "cell_type": "markdown",
   "metadata": {},
   "source": [
    "The **Black-Scholes model**, also known as the Black-Scholes-Merton (BSM) model, is a mathematical model for pricing an options contract. In particular, the model estimates the variation over time of financial instruments."
   ]
  },
  {
   "cell_type": "code",
   "execution_count": 94,
   "metadata": {},
   "outputs": [],
   "source": [
    "#Black–Scholes Model\n",
    "\n",
    "#Creating Function for pricing of option through BSM\n",
    "\n",
    "def d1(S, K, r, stdev, T):\n",
    "    return (np.log(S / K) + (r + stdev ** 2 / 2) * T) / (stdev * np.sqrt(T))\n",
    " \n",
    "def d2(S, K, r, stdev, T):\n",
    "    return (np.log(S / K) + (r - stdev ** 2 / 2) * T) / (stdev * np.sqrt(T))\n",
    "\n",
    "def BSM_call(S, K, r, stdev, T):\n",
    "        return (S * norm.cdf(d1(S, K, r, stdev, T))) - (K * np.exp(-r * T) * norm.cdf(d2(S, K, r, stdev, T)))\n",
    "    \n",
    "def BSM_put(S, K, r, stdev, T):\n",
    "        return (K * np.exp(-r * T) * (1-norm.cdf(d2(S, K, r, stdev, T)))) - (S * (1-norm.cdf(d1(S, K, r, stdev, T))))  "
   ]
  },
  {
   "cell_type": "markdown",
   "metadata": {},
   "source": [
    "### Check results using both the models"
   ]
  },
  {
   "cell_type": "code",
   "execution_count": 95,
   "metadata": {},
   "outputs": [
    {
     "name": "stdout",
     "output_type": "stream",
     "text": [
      "\u001b[1mBrownian Motion\u001b[0m\n",
      "Call option Price = 11.422780351402112\n",
      "Put option Price = 4.78667088606997\n",
      "\n",
      "\n",
      "\u001b[1mBSM Model\u001b[0m\n",
      "Call option Price = 11.541470170672412\n",
      "Put option Price = 4.780852161267234\n"
     ]
    }
   ],
   "source": [
    "print (\"\\033[1m\" + \"Brownian Motion\" + \"\\033[0m\")\n",
    "print('Call option Price =' , Brow_call)\n",
    "print('Put option Price =', Brow_put)\n",
    "print('\\n')\n",
    "print (\"\\033[1m\" + \"BSM Model\" + \"\\033[0m\")\n",
    "print('Call option Price =' , BSM_call(S,K,r,stdev,T))\n",
    "print('Put option Price =', BSM_put(S,K,r,stdev,T))"
   ]
  },
  {
   "cell_type": "markdown",
   "metadata": {},
   "source": [
    "**Comparision**<br />\n",
    "Monte carlo simulation is one of the most used method in industry and BSM is a model used academically to price the options.\n",
    "and In this model we calculated te price of Options with both the models and the results are almost same."
   ]
  }
 ],
 "metadata": {
  "kernelspec": {
   "display_name": "Python 3",
   "language": "python",
   "name": "python3"
  },
  "language_info": {
   "codemirror_mode": {
    "name": "ipython",
    "version": 3
   },
   "file_extension": ".py",
   "mimetype": "text/x-python",
   "name": "python",
   "nbconvert_exporter": "python",
   "pygments_lexer": "ipython3",
   "version": "3.7.4"
  }
 },
 "nbformat": 4,
 "nbformat_minor": 2
}
